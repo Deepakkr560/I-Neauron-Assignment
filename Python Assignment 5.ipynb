{
 "cells": [
  {
   "cell_type": "markdown",
   "id": "fdaeee06",
   "metadata": {},
   "source": [
    "### 1. Write a Python Program to Find LCM?"
   ]
  },
  {
   "cell_type": "code",
   "execution_count": 3,
   "id": "f4f0bb59",
   "metadata": {},
   "outputs": [
    {
     "name": "stdout",
     "output_type": "stream",
     "text": [
      "enter the number : 12\n",
      "enter the number : 15\n",
      "LCM of 12 and 15 is 60\n"
     ]
    }
   ],
   "source": [
    "num1 = int(input(\"enter the number : \"))\n",
    "num2 = int(input(\"enter the number : \"))\n",
    "for i in range(max(num1, num2), 1 + (num1 * num2)):\n",
    "    if i % num1 == i % num2 == 0:\n",
    "        lcm = i\n",
    "        break\n",
    "print(\"LCM of\", num1, \"and\", num2, \"is\", lcm)"
   ]
  },
  {
   "cell_type": "markdown",
   "id": "2f459cdf",
   "metadata": {},
   "source": [
    "### 2. Write a Python Program to Find HCF?"
   ]
  },
  {
   "cell_type": "code",
   "execution_count": 4,
   "id": "1abc0ad2",
   "metadata": {},
   "outputs": [
    {
     "name": "stdout",
     "output_type": "stream",
     "text": [
      "enter the value : 15\n",
      "enter the value : 18\n",
      "Hcf of 15 and 18 is 3\n"
     ]
    }
   ],
   "source": [
    "num1 = int(input(\"enter the value : \"))\n",
    "num2 = int(input(\"enter the value : \"))\n",
    "hcf = 1\n",
    "\n",
    "for i in range(1, min(num1, num2)):\n",
    "    if num1 % i == 0 and num2 % i == 0:\n",
    "        hcf = i\n",
    "print(\"Hcf of\", num1, \"and\", num2, \"is\", hcf)"
   ]
  },
  {
   "cell_type": "markdown",
   "id": "d2c29370",
   "metadata": {},
   "source": [
    "### 3. Write a Python Program to Convert Decimal to Binary, Octal and Hexadecimal?"
   ]
  },
  {
   "cell_type": "code",
   "execution_count": 6,
   "id": "34d25bdf",
   "metadata": {},
   "outputs": [
    {
     "name": "stdout",
     "output_type": "stream",
     "text": [
      "The decimal value of 344 is:\n",
      "0b101011000 in binary.\n",
      "0o530 in octal.\n",
      "0x158 in hexadecimal.\n"
     ]
    }
   ],
   "source": [
    "decimal = 344\n",
    "\n",
    "print(\"The decimal value of\", decimal, \"is:\")\n",
    "print(bin(decimal), \"in binary.\")\n",
    "print(oct(decimal), \"in octal.\")\n",
    "print(hex(decimal), \"in hexadecimal.\")\n"
   ]
  },
  {
   "cell_type": "markdown",
   "id": "2a16c5fd",
   "metadata": {},
   "source": [
    "### 4. Write a Python Program To Find ASCII value of a character?"
   ]
  },
  {
   "cell_type": "code",
   "execution_count": 14,
   "id": "08a95793",
   "metadata": {},
   "outputs": [
    {
     "name": "stdout",
     "output_type": "stream",
     "text": [
      "Enter ASCII value : d\n",
      "100\n"
     ]
    }
   ],
   "source": [
    "num = input(\"Enter ASCII value : \")\n",
    "print(ord(num))"
   ]
  },
  {
   "cell_type": "markdown",
   "id": "226778a0",
   "metadata": {},
   "source": [
    "### 5. Write a Python Program to Make a Simple Calculator with 4 basic mathematical operations?"
   ]
  },
  {
   "cell_type": "code",
   "execution_count": 15,
   "id": "528e75bd",
   "metadata": {},
   "outputs": [
    {
     "name": "stdout",
     "output_type": "stream",
     "text": [
      "Enter your first number : 75\n",
      "Enter your second number : 25\n",
      "75 + 25 = \n",
      "100\n",
      "75 - 25 = \n",
      "50\n",
      "75 * 25 = \n",
      "1875\n",
      "75 / 25 = \n",
      "3.0\n"
     ]
    }
   ],
   "source": [
    "num1 = int(input(\"Enter your first number : \"))\n",
    "num2 = int(input(\"Enter your second number : \"))\n",
    "\n",
    "print('{} + {} = '.format(num1, num2))\n",
    "print(num1 + num2)\n",
    "\n",
    "print('{} - {} = '.format(num1, num2))\n",
    "print(num1 - num2)\n",
    "\n",
    "print('{} * {} = '.format(num1, num2))\n",
    "print(num1 * num2)\n",
    "\n",
    "print('{} / {} = '.format(num1, num2))\n",
    "print(num1 / num2)"
   ]
  }
 ],
 "metadata": {
  "kernelspec": {
   "display_name": "Python 3 (ipykernel)",
   "language": "python",
   "name": "python3"
  },
  "language_info": {
   "codemirror_mode": {
    "name": "ipython",
    "version": 3
   },
   "file_extension": ".py",
   "mimetype": "text/x-python",
   "name": "python",
   "nbconvert_exporter": "python",
   "pygments_lexer": "ipython3",
   "version": "3.9.12"
  }
 },
 "nbformat": 4,
 "nbformat_minor": 5
}
