{
 "cells": [
  {
   "cell_type": "markdown",
   "id": "051da140",
   "metadata": {},
   "source": [
    "### 1. Write a Python program to find words which are greater than given length k?"
   ]
  },
  {
   "cell_type": "code",
   "execution_count": 2,
   "id": "651ad7b8",
   "metadata": {},
   "outputs": [
    {
     "name": "stdout",
     "output_type": "stream",
     "text": [
      "['Python', 'Computer', 'language']\n"
     ]
    }
   ],
   "source": [
    "n=\"Python is a Computer language\"; l=4\n",
    "s=n.split(\" \")\n",
    "l=list(filter(lambda x: (len(x)>l),s))\n",
    "print(l)"
   ]
  },
  {
   "cell_type": "markdown",
   "id": "26719cbd",
   "metadata": {},
   "source": [
    "### 2. Write a Python program for removing i-th character from a string?"
   ]
  },
  {
   "cell_type": "code",
   "execution_count": 11,
   "id": "32dac366",
   "metadata": {},
   "outputs": [
    {
     "name": "stdout",
     "output_type": "stream",
     "text": [
      "Pythn is a computer language\n"
     ]
    }
   ],
   "source": [
    "def remove_char(s, i):\n",
    "    a = s[ : i]\n",
    "    b = s[i + 1: ]\n",
    "    return a+b\n",
    "\n",
    "string = 'Python is a computer language'\n",
    "i = 5\n",
    "print(remove_char(string,i-1))"
   ]
  },
  {
   "cell_type": "markdown",
   "id": "51ae6b0f",
   "metadata": {},
   "source": [
    "### 3. Write a Python program to split and join a string?"
   ]
  },
  {
   "cell_type": "code",
   "execution_count": 10,
   "id": "6cf3564e",
   "metadata": {},
   "outputs": [
    {
     "name": "stdout",
     "output_type": "stream",
     "text": [
      "['Python', 'is', 'a', 'computer', 'language']\n",
      "Python-is-a-computer-language\n"
     ]
    }
   ],
   "source": [
    "s = 'Python is a computer language'\n",
    "\n",
    "print(s.split(\" \"))\n",
    "\n",
    "print(\"-\".join(s.split()))"
   ]
  },
  {
   "cell_type": "markdown",
   "id": "59079fe1",
   "metadata": {},
   "source": [
    "### 4. Write a Python to check if a given string is binary string or not?"
   ]
  },
  {
   "cell_type": "code",
   "execution_count": 20,
   "id": "63a68633",
   "metadata": {},
   "outputs": [
    {
     "name": "stdout",
     "output_type": "stream",
     "text": [
      "Binary Number\n"
     ]
    }
   ],
   "source": [
    "string =\"01010101010\"\n",
    "binary=\"01\"\n",
    "for i in binary:\n",
    "    string=string.replace(i,\"\")\n",
    "if(len(string)==0):\n",
    "    print(\"Binary Number\")\n",
    "else:\n",
    "    print(\"No\")"
   ]
  }
 ],
 "metadata": {
  "kernelspec": {
   "display_name": "Python 3 (ipykernel)",
   "language": "python",
   "name": "python3"
  },
  "language_info": {
   "codemirror_mode": {
    "name": "ipython",
    "version": 3
   },
   "file_extension": ".py",
   "mimetype": "text/x-python",
   "name": "python",
   "nbconvert_exporter": "python",
   "pygments_lexer": "ipython3",
   "version": "3.9.12"
  }
 },
 "nbformat": 4,
 "nbformat_minor": 5
}
