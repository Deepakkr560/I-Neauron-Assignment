{
 "cells": [
  {
   "cell_type": "markdown",
   "id": "6720790a",
   "metadata": {},
   "source": [
    "### 1. Write a Python program to find sum of elements in list?"
   ]
  },
  {
   "cell_type": "code",
   "execution_count": 9,
   "id": "c2c26f70",
   "metadata": {},
   "outputs": [
    {
     "name": "stdout",
     "output_type": "stream",
     "text": [
      "Sum of the element is :  82\n"
     ]
    }
   ],
   "source": [
    "lst = [12,14,23,15,18]\n",
    "sm = 0\n",
    "\n",
    "for i in range(0,len(lst)):\n",
    "    sm = sm+lst[i]\n",
    "print(\"Sum of the element is : \",sm)"
   ]
  },
  {
   "cell_type": "markdown",
   "id": "fe1137c3",
   "metadata": {},
   "source": [
    "### 2. Write a Python program to  Multiply all numbers in the list?"
   ]
  },
  {
   "cell_type": "code",
   "execution_count": 13,
   "id": "86229e54",
   "metadata": {},
   "outputs": [
    {
     "name": "stdout",
     "output_type": "stream",
     "text": [
      "Multiplying all the number :  1043280\n"
     ]
    }
   ],
   "source": [
    "lst = [12,14,23,15,18]\n",
    "mul = 1\n",
    "for i in range(0,len(lst)):\n",
    "    mul = mul*lst[i]\n",
    "print(\"Multiplying all the number : \",mul)"
   ]
  },
  {
   "cell_type": "markdown",
   "id": "078681db",
   "metadata": {},
   "source": [
    "### 3. Write a Python program to find smallest number in a list?"
   ]
  },
  {
   "cell_type": "code",
   "execution_count": 24,
   "id": "a0526cb9",
   "metadata": {
    "scrolled": true
   },
   "outputs": [
    {
     "name": "stdout",
     "output_type": "stream",
     "text": [
      "smallest in  [12, 14, 23, 15, 18] is : 12\n"
     ]
    }
   ],
   "source": [
    "def smallest(list):\n",
    "    small= list[0]\n",
    "    for i in list:\n",
    "        if i<small:\n",
    "            small=i\n",
    "    return small\n",
    "\n",
    "list= [12,14,23,15,18]\n",
    "print(\"smallest in \",list,\"is :\",smallest(list))"
   ]
  },
  {
   "cell_type": "markdown",
   "id": "12b04397",
   "metadata": {},
   "source": [
    "### 4. Write a Python program to find largest number in a list?"
   ]
  },
  {
   "cell_type": "code",
   "execution_count": 25,
   "id": "260ed38f",
   "metadata": {},
   "outputs": [
    {
     "name": "stdout",
     "output_type": "stream",
     "text": [
      "Largest in  [12, 14, 23, 15, 18] is : 23\n"
     ]
    }
   ],
   "source": [
    "def large(list):\n",
    "    lar= list[0]\n",
    "    for i in list:\n",
    "        if i>lar:\n",
    "            lar=i\n",
    "    return lar\n",
    "\n",
    "list= [12,14,23,15,18]\n",
    "print(\"Largest in \",list,\"is :\",large(list))"
   ]
  },
  {
   "cell_type": "markdown",
   "id": "86442b51",
   "metadata": {},
   "source": [
    "### 5. Write a Python program to find second largest number in a list?"
   ]
  },
  {
   "cell_type": "code",
   "execution_count": 31,
   "id": "f8ade766",
   "metadata": {
    "scrolled": false
   },
   "outputs": [
    {
     "name": "stdout",
     "output_type": "stream",
     "text": [
      "The second largest element of the list is: 18\n"
     ]
    }
   ],
   "source": [
    "lst = [12,14,23,15,18]  \n",
    "lst.sort()   \n",
    "print(\"The second largest element of the list is:\", lst[-2])"
   ]
  },
  {
   "cell_type": "markdown",
   "id": "10964d7d",
   "metadata": {},
   "source": [
    "### 6. Write a Python program to find N largest elements from a list?"
   ]
  },
  {
   "cell_type": "code",
   "execution_count": 32,
   "id": "0bcc6d68",
   "metadata": {},
   "outputs": [
    {
     "name": "stdout",
     "output_type": "stream",
     "text": [
      "[85, 41]\n"
     ]
    }
   ],
   "source": [
    "def Nth(list1, N):\n",
    "    final_list = []\n",
    " \n",
    "    for i in range(0, N):\n",
    "        max1 = 0\n",
    "         \n",
    "        for j in range(len(list1)):    \n",
    "            if list1[j] > max1:\n",
    "                max1 = list1[j];\n",
    "                 \n",
    "        list1.remove(max1);\n",
    "        final_list.append(max1)\n",
    "         \n",
    "    print(final_list)\n",
    "list1 = [2, 6, 41, 85, 0, 3, 7, 6, 10]\n",
    "N = 2\n",
    "\n",
    "Nth(list1, N)"
   ]
  },
  {
   "cell_type": "markdown",
   "id": "2f1a1e98",
   "metadata": {},
   "source": [
    "### 7. Write a Python program to print even numbers in a list?"
   ]
  },
  {
   "cell_type": "code",
   "execution_count": 41,
   "id": "06355957",
   "metadata": {},
   "outputs": [
    {
     "name": "stdout",
     "output_type": "stream",
     "text": [
      "Even Number in a list is : [12, 14, 18]\n"
     ]
    }
   ],
   "source": [
    "lst = [12,14,23,15,18]  \n",
    "evn = []\n",
    "\n",
    "for i in lst:\n",
    "    if i%2 == 0:\n",
    "        evn.append(i)\n",
    "print(\"Even Number in a list is :\",evn)"
   ]
  },
  {
   "cell_type": "markdown",
   "id": "989bb324",
   "metadata": {},
   "source": [
    "### 8. Write a Python program to print odd numbers in a List?"
   ]
  },
  {
   "cell_type": "code",
   "execution_count": 43,
   "id": "b488c535",
   "metadata": {},
   "outputs": [
    {
     "name": "stdout",
     "output_type": "stream",
     "text": [
      "Odd Number in a list is : [23, 15]\n"
     ]
    }
   ],
   "source": [
    "lst = [12,14,23,15,18]  \n",
    "odd = []\n",
    "\n",
    "for i in lst:\n",
    "    if i%2 != 0:\n",
    "        odd.append(i)\n",
    "print(\"Odd Number in a list is :\",odd)"
   ]
  },
  {
   "cell_type": "markdown",
   "id": "185b7b13",
   "metadata": {},
   "source": [
    "### 9. Write a Python program to Remove empty List from List?"
   ]
  },
  {
   "cell_type": "code",
   "execution_count": 44,
   "id": "8aa27ea2",
   "metadata": {},
   "outputs": [
    {
     "name": "stdout",
     "output_type": "stream",
     "text": [
      "The original list is : [5, 6, [], 3, [], [], 9]\n",
      "List after empty list removal : [5, 6, 3, 9]\n"
     ]
    }
   ],
   "source": [
    "test_list = [5, 6, [], 3, [], [], 9]\n",
    "\n",
    "print(\"The original list is : \" + str(test_list))\n",
    "\n",
    "while [] in test_list :\n",
    "    test_list.remove([])\n",
    "\n",
    "print(\"List after empty list removal : \" + str(test_list))"
   ]
  },
  {
   "cell_type": "markdown",
   "id": "278cfacc",
   "metadata": {},
   "source": [
    "### 10. Write a Python program to Cloning or Copying a list?"
   ]
  },
  {
   "cell_type": "code",
   "execution_count": 52,
   "id": "56328a22",
   "metadata": {},
   "outputs": [
    {
     "name": "stdout",
     "output_type": "stream",
     "text": [
      "[12, 14, 23, 15, 18]\n",
      "[12, 14, 23, 15, 18]\n"
     ]
    }
   ],
   "source": [
    "original_list = [12,14,23,15,18]  \n",
    "new_list = original_list\n",
    "print(original_list)\n",
    "print(new_list)"
   ]
  },
  {
   "cell_type": "markdown",
   "id": "b359bedf",
   "metadata": {},
   "source": [
    "### 11. Write a Python program to Count occurrences of an element in a list?"
   ]
  },
  {
   "cell_type": "code",
   "execution_count": null,
   "id": "bac774bd",
   "metadata": {},
   "outputs": [],
   "source": []
  }
 ],
 "metadata": {
  "kernelspec": {
   "display_name": "Python 3 (ipykernel)",
   "language": "python",
   "name": "python3"
  },
  "language_info": {
   "codemirror_mode": {
    "name": "ipython",
    "version": 3
   },
   "file_extension": ".py",
   "mimetype": "text/x-python",
   "name": "python",
   "nbconvert_exporter": "python",
   "pygments_lexer": "ipython3",
   "version": "3.9.12"
  }
 },
 "nbformat": 4,
 "nbformat_minor": 5
}
